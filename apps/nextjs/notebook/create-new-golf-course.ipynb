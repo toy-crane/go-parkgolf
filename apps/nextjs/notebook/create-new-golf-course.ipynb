{
 "cells": [
  {
   "cell_type": "code",
   "execution_count": 20,
   "metadata": {},
   "outputs": [],
   "source": [
    "const course_name = \"청석공원 파크골프장\"\n",
    "const address = \"광주시 경안동 242번지\"\n",
    "const hole_count = 18\n",
    "const slug = course_name.replace(/ /g, \"-\").toLowerCase()\n",
    "const opening_hours = \"09:00 ~ 17:00 / 동절기 휴장\"\n",
    "const regular_closed_days = undefined\n",
    "const website = \"https://www.gumc.or.kr/business/park2\"\n",
    "const registration_method = \"광주시민 및 관내종사자만 사용 가능\"\n",
    "const reference = \"https://www.gumc.or.kr/business/park2\"\n",
    "const phone_number = undefined;\n"
   ]
  },
  {
   "cell_type": "markdown",
   "metadata": {},
   "source": [
    "golf_course, road_address, address, contact, operation 테이블 생성해야 함"
   ]
  },
  {
   "cell_type": "markdown",
   "metadata": {},
   "source": [
    "# 주소 변환"
   ]
  },
  {
   "cell_type": "code",
   "execution_count": null,
   "metadata": {},
   "outputs": [],
   "source": [
    "import fetch from 'npm:node-fetch';\n",
    "\n",
    "const query = address;\n",
    "const url = `https://dapi.kakao.com/v2/local/search/address.json?query=${encodeURIComponent(query)}`;\n",
    "\n",
    "const response = await fetch(url, {\n",
    "    method: 'GET',\n",
    "    headers: {\n",
    "        'Authorization': `KakaoAK 6f447bc34a2d339805e6816490bf2a66`\n",
    "    }\n",
    "})\n",
    "const json = await response.json();\n",
    "const { documents } = json;\n",
    "const address = documents[0].address;\n",
    "const address_name = address ? address.address_name : \"\";\n",
    "const road_address = documents[0].road_address || undefined;\n",
    "const road_address_name = road_address ? ` ${road_address.address_name}`  : \"\";\n",
    "const searchable_address =  `${address_name}${road_address_name} ${course_name}`.trim()"
   ]
  },
  {
   "cell_type": "markdown",
   "metadata": {},
   "source": [
    "## Create Client"
   ]
  },
  {
   "cell_type": "code",
   "execution_count": null,
   "metadata": {},
   "outputs": [],
   "source": [
    "import { createClient } from 'https://esm.sh/@supabase/supabase-js@2'\n",
    "\n",
    "\n",
    "// Create a single supabase client for interacting with your database\n",
    "// add Client Key\n",
    "const supabase = createClient() "
   ]
  },
  {
   "cell_type": "markdown",
   "metadata": {},
   "source": []
  },
  {
   "cell_type": "markdown",
   "metadata": {},
   "source": [
    "## Create Golf Course"
   ]
  },
  {
   "cell_type": "code",
   "execution_count": null,
   "metadata": {},
   "outputs": [],
   "source": [
    "const golfCourseParams = {\n",
    "  name: course_name,\n",
    "  searchable_address,\n",
    "  hole_count: hole_count,\n",
    "  slug,\n",
    "}"
   ]
  },
  {
   "cell_type": "code",
   "execution_count": null,
   "metadata": {},
   "outputs": [],
   "source": [
    "const { data: golfCourse, error: golfCourseError } = await supabase\n",
    ".from('golf_course')\n",
    ".upsert(golfCourseParams)\n",
    ".select()\n",
    ".single()\n",
    "console.log(golfCourse, golfCourseError)"
   ]
  },
  {
   "cell_type": "markdown",
   "metadata": {},
   "source": [
    "## Create Address, Road Address\n"
   ]
  },
  {
   "cell_type": "code",
   "execution_count": 13,
   "metadata": {},
   "outputs": [
    {
     "name": "stdout",
     "output_type": "stream",
     "text": [
      "[\n",
      "  {\n",
      "    id: 769,\n",
      "    address_name: \"경기 광주시 경안동 242\",\n",
      "    b_code: \"4161010100\",\n",
      "    h_code: \"4161051000\",\n",
      "    main_address_no: \"242\",\n",
      "    mountain_yn: \"N\",\n",
      "    region_1depth_name: \"경기\",\n",
      "    region_2depth_name: \"광주시\",\n",
      "    region_3depth_h_name: \"경안동\",\n",
      "    region_3depth_name: \"경안동\",\n",
      "    sub_address_no: \"\",\n",
      "    x: 127.264963684938,\n",
      "    y: 37.4120694738893,\n",
      "    golf_course_id: 368\n",
      "  }\n",
      "] null\n"
     ]
    }
   ],
   "source": [
    "const {data: addressResponse, error: addressError} = await supabase\n",
    ".from(\"address\")\n",
    ".upsert({\n",
    "  ...address,\n",
    "  golf_course_id: golfCourse.id\n",
    "})\n",
    ".select()\n",
    "console.log(addressResponse, addressError)"
   ]
  },
  {
   "cell_type": "code",
   "execution_count": 12,
   "metadata": {},
   "outputs": [],
   "source": [
    "if(road_address){\n",
    "const {data: roadAddressResponse, error: roadAddressError} = await supabase\n",
    ".from(\"road_address\")\n",
    ".upsert({\n",
    "  ...road_address,\n",
    "  golf_course_id: golfCourse.id\n",
    "})\n",
    ".select()\n",
    "console.log(roadAddressResponse, roadAddressError)\n",
    "}"
   ]
  },
  {
   "cell_type": "markdown",
   "metadata": {},
   "source": [
    "## Operation"
   ]
  },
  {
   "cell_type": "code",
   "execution_count": 17,
   "metadata": {},
   "outputs": [],
   "source": [
    "const operationParams = {\n",
    "  regular_closed_days,\n",
    "  opening_hours,\n",
    "  website,\n",
    "  registration_method,\n",
    "  reference,\n",
    "  golf_course_id: golfCourse.id\n",
    "}"
   ]
  },
  {
   "cell_type": "code",
   "execution_count": 18,
   "metadata": {},
   "outputs": [],
   "source": [
    "const {data: operationData, error: operationError} = await supabase\n",
    ".from(\"operation\")\n",
    ".upsert({\n",
    "  ...operationParams,\n",
    "})\n",
    ".select()"
   ]
  },
  {
   "cell_type": "markdown",
   "metadata": {},
   "source": [
    "## Contact"
   ]
  },
  {
   "cell_type": "code",
   "execution_count": 21,
   "metadata": {},
   "outputs": [],
   "source": [
    "const contactParams = {\n",
    "  phone_number,\n",
    "  golf_course_id: golfCourse.id\n",
    "}"
   ]
  },
  {
   "cell_type": "code",
   "execution_count": 22,
   "metadata": {},
   "outputs": [],
   "source": [
    "const {data: contactData, error: contactError} = await supabase\n",
    ".from(\"contact\")\n",
    ".upsert({\n",
    "  ...contactParams,\n",
    "})\n",
    ".select()"
   ]
  },
  {
   "cell_type": "code",
   "execution_count": null,
   "metadata": {},
   "outputs": [],
   "source": []
  },
  {
   "cell_type": "code",
   "execution_count": null,
   "metadata": {},
   "outputs": [],
   "source": []
  },
  {
   "cell_type": "code",
   "execution_count": null,
   "metadata": {},
   "outputs": [],
   "source": []
  },
  {
   "cell_type": "code",
   "execution_count": null,
   "metadata": {},
   "outputs": [],
   "source": []
  },
  {
   "cell_type": "code",
   "execution_count": null,
   "metadata": {},
   "outputs": [],
   "source": []
  }
 ],
 "metadata": {
  "kernelspec": {
   "display_name": "Deno",
   "language": "typescript",
   "name": "deno"
  },
  "language_info": {
   "file_extension": ".ts",
   "mimetype": "text/x.typescript",
   "name": "typescript",
   "nb_converter": "script",
   "pygments_lexer": "typescript",
   "version": "5.2.2"
  }
 },
 "nbformat": 4,
 "nbformat_minor": 2
}
